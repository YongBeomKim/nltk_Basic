{
 "cells": [
  {
   "cell_type": "markdown",
   "metadata": {
    "colab_type": "text",
    "id": "-oylDquCizog"
   },
   "source": [
    "# **Chapter 2 Visulaizaion**\n",
    "## **Word Cloud - 말뭉치 응용**"
   ]
  },
  {
   "cell_type": "code",
   "execution_count": null,
   "metadata": {
    "colab": {
     "base_uri": "https://localhost:8080/",
     "height": 3492
    },
    "colab_type": "code",
    "id": "kKgQdxNSizoh",
    "outputId": "bda459f8-d2b8-44eb-e09b-66efe3e49f7d"
   },
   "outputs": [],
   "source": [
    "! apt-get update\n",
    "! apt-get install g++ openjdk-8-jdk \n",
    "! pip3  install  nltk konlpy wordcloud matplotlib gensim \n",
    "\n",
    "! apt-get install fonts-nanum*\n",
    "! apt-get install fontconfig\n",
    "! fc-cache -fv\n",
    "! cp /usr/share/fonts/truetype/nanum/Nanum* /usr/local/lib/python3.6/dist-packages/matplotlib/mpl-data/fonts/ttf/\n",
    "! rm -rf /content/.cache/matplotlib/*\n",
    "\n",
    "speech_text = \"https://raw.githubusercontent.com/YongBeomKim/nltk_rnd/master/data/pyongyang_fin.txt\"\n",
    "font_file   = \"/usr/local/lib/python3.6/dist-packages/matplotlib/mpl-data/fonts/ttf/NanumGothicCoding.ttf\"\n",
    "# speech_text = \"../data/pyongyang_fin.txt\"\n",
    "# font_file   = \"../data/D2Coding.ttf\""
   ]
  },
  {
   "cell_type": "code",
   "execution_count": null,
   "metadata": {
    "colab": {
     "base_uri": "https://localhost:8080/",
     "height": 92
    },
    "colab_type": "code",
    "id": "CBZJkiMXizol",
    "outputId": "7802c414-38fc-4987-c6b5-acd3f1a795bc"
   },
   "outputs": [],
   "source": [
    "import nltk\n",
    "nltk.download('punkt')\n",
    "\n",
    "import pandas as pd\n",
    "import matplotlib.pyplot as plt\n",
    "from wordcloud import WordCloud\n",
    "from nltk import FreqDist\n",
    "from nltk.tokenize import word_tokenize\n",
    "\n",
    "# for Colab\n",
    "import requests\n",
    "texts = requests.get(speech_text).text\n",
    "texts[:100]\n",
    "\n",
    "# for LocalHost\n",
    "# with open(speech_text, 'r') as f:\n",
    "#     texts = f.read()\n",
    "# texts[:100]"
   ]
  }
 ],
 "metadata": {
  "colab": {
   "collapsed_sections": [],
   "name": "02-WordCloud.ipynb",
   "provenance": [],
   "version": "0.3.2"
  },
  "kernelspec": {
   "display_name": "Python 3",
   "language": "python",
   "name": "python3"
  },
  "language_info": {
   "codemirror_mode": {
    "name": "ipython",
    "version": 3
   },
   "file_extension": ".py",
   "mimetype": "text/x-python",
   "name": "python",
   "nbconvert_exporter": "python",
   "pygments_lexer": "ipython3",
   "version": "3.6.3"
  }
 },
 "nbformat": 4,
 "nbformat_minor": 2
}
