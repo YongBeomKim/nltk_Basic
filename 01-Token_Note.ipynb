{
 "cells": [
  {
   "cell_type": "markdown",
   "metadata": {},
   "source": [
    "# **Chapter 2 자연어 분석**\n",
    "\n",
    "## **Token**\n",
    "어휘분석"
   ]
  },
  {
   "cell_type": "code",
   "execution_count": null,
   "metadata": {},
   "outputs": [],
   "source": [
    "! apt-get update\n",
    "! apt-get install g++ openjdk-8-jdk \n",
    "! pip3 install nltk konlpy"
   ]
  },
  {
   "cell_type": "code",
   "execution_count": null,
   "metadata": {},
   "outputs": [],
   "source": [
    "import nltk\n",
    "nltk.download('punkt')\n",
    "nltk.download('tagsets')\n",
    "nltk.download('averaged_perceptron_tagger')\n",
    "\n",
    "text_eng  = \" Don't hesitate to ask questions\"\n",
    "text_kor  = \"\"\"삼성 갤럭시(GalaxyNote)노트의 신형을 홍보 합니다. \n",
    "홍보:유관순 010-8888-9999.\n",
    "삼성 페이지 https://www.samsung.com/sec/index.html\"\"\""
   ]
  }
 ],
 "metadata": {
  "kernelspec": {
   "display_name": "Python 3",
   "language": "python",
   "name": "python3"
  },
  "language_info": {
   "codemirror_mode": {
    "name": "ipython",
    "version": 3
   },
   "file_extension": ".py",
   "mimetype": "text/x-python",
   "name": "python",
   "nbconvert_exporter": "python",
   "pygments_lexer": "ipython3",
   "version": "3.6.3"
  }
 },
 "nbformat": 4,
 "nbformat_minor": 2
}
