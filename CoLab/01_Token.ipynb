{
  "nbformat": 4,
  "nbformat_minor": 0,
  "metadata": {
    "colab": {
      "name": "01_Token.ipynb",
      "version": "0.3.2",
      "provenance": [],
      "collapsed_sections": []
    },
    "kernelspec": {
      "display_name": "Python 3",
      "language": "python",
      "name": "python3"
    }
  },
  "cells": [
    {
      "metadata": {
        "id": "bIW7fDnfZ70e",
        "colab_type": "text"
      },
      "cell_type": "markdown",
      "source": [
        "# **Chapter 2 자연어 분석**\n",
        "\n",
        "## **Token**\n",
        "어휘분석"
      ]
    },
    {
      "metadata": {
        "id": "XHB_eopfZ70g",
        "colab_type": "code",
        "colab": {}
      },
      "cell_type": "code",
      "source": [
        "! apt-get update\n",
        "! apt-get install g++ openjdk-8-jdk \n",
        "! pip3  install  nltk konlpy"
      ],
      "execution_count": 0,
      "outputs": []
    },
    {
      "metadata": {
        "id": "JK7m9hMrZ70l",
        "colab_type": "code",
        "colab": {}
      },
      "cell_type": "code",
      "source": [
        "import nltk\n",
        "nltk.download('punkt')\n",
        "nltk.download('tagsets')\n",
        "nltk.download('averaged_perceptron_tagger')\n",
        "text_eng  = \" Don't hesitate to ask questions\"\n",
        "text_kor  = \"\"\"삼성 갤럭시(GalaxyNote)노트의 신형을 홍보 합니다. \n",
        "홍보:유관순 010-8888-9999.\n",
        "삼성 페이지 https://www.samsung.com/sec/index.html\"\"\""
      ],
      "execution_count": 0,
      "outputs": []
    },
    {
      "metadata": {
        "id": "x0kdnPyvZ70p",
        "colab_type": "code",
        "colab": {}
      },
      "cell_type": "code",
      "source": [
        "text_kor"
      ],
      "execution_count": 0,
      "outputs": []
    },
    {
      "metadata": {
        "id": "xa5K45P_Z70r",
        "colab_type": "code",
        "colab": {}
      },
      "cell_type": "code",
      "source": [
        "from nltk import sent_tokenize, word_tokenize, FreqDist\n",
        "sent_tokenize(text_kor)"
      ],
      "execution_count": 0,
      "outputs": []
    },
    {
      "metadata": {
        "id": "TqHm3_7fZ70u",
        "colab_type": "code",
        "colab": {}
      },
      "cell_type": "code",
      "source": [
        "tokens = word_tokenize(text_kor)\n",
        "tokens"
      ],
      "execution_count": 0,
      "outputs": []
    },
    {
      "metadata": {
        "scrolled": true,
        "id": "r6P6uvkXZ70x",
        "colab_type": "code",
        "colab": {}
      },
      "cell_type": "code",
      "source": [
        "dict(FreqDist(tokens))"
      ],
      "execution_count": 0,
      "outputs": []
    },
    {
      "metadata": {
        "id": "oT4tcBbVZ70z",
        "colab_type": "text"
      },
      "cell_type": "markdown",
      "source": [
        "<br></br>\n",
        "## **Re 를 사용한 Regex 정규식**\n",
        "https://news.v.daum.net/v/20190223110230553"
      ]
    },
    {
      "metadata": {
        "id": "RZjHNyyNZ700",
        "colab_type": "code",
        "colab": {}
      },
      "cell_type": "code",
      "source": [
        "import re\n",
        "tokenizer = re.compile(r'[가-힣]+')\n",
        "tokenizer.findall(text_kor)"
      ],
      "execution_count": 0,
      "outputs": []
    },
    {
      "metadata": {
        "id": "2xLDAD9Tahiv",
        "colab_type": "code",
        "colab": {}
      },
      "cell_type": "code",
      "source": [
        "# 강의중 추가할 내용\n",
        "tokenizer  = re.compile(r'[0-9]{3}-[0-9]{3,4}-[0-9]{4}')\n",
        "tokenizer.findall(text_kor)"
      ],
      "execution_count": 0,
      "outputs": []
    },
    {
      "metadata": {
        "id": "ArxZALAVZ702",
        "colab_type": "code",
        "colab": {}
      },
      "cell_type": "code",
      "source": [
        "tokenizer  = re.compile(r'\\d{3}-\\d{3,4}-\\d{4}')\n",
        "tokenizer.findall(text_kor)"
      ],
      "execution_count": 0,
      "outputs": []
    },
    {
      "metadata": {
        "id": "oL4JjO8mZ708",
        "colab_type": "code",
        "colab": {}
      },
      "cell_type": "code",
      "source": [
        "tokenizer = re.compile(r'[^ 가-힣]+')\n",
        "tokenizer.findall(text_kor)"
      ],
      "execution_count": 0,
      "outputs": []
    },
    {
      "metadata": {
        "id": "oFP9ZY5oZ70-",
        "colab_type": "code",
        "colab": {}
      },
      "cell_type": "code",
      "source": [
        "tokenizer.sub(\"\", text_kor).split(\" \")"
      ],
      "execution_count": 0,
      "outputs": []
    },
    {
      "metadata": {
        "id": "0PqI1tYCZ71A",
        "colab_type": "code",
        "colab": {}
      },
      "cell_type": "code",
      "source": [
        "tokenizer = re.compile(r'https://[w]{3}.[A-z]+.[A-z]+/')\n",
        "tokenizer.findall(text_kor)"
      ],
      "execution_count": 0,
      "outputs": []
    },
    {
      "metadata": {
        "id": "W0tHmLmYayun",
        "colab_type": "code",
        "colab": {}
      },
      "cell_type": "code",
      "source": [
        "# 강의 중 추가할 내용\n",
        "tokenizer = re.compile(r'https://[/.A-z]+')\n",
        "tokenizer.findall(text_kor)"
      ],
      "execution_count": 0,
      "outputs": []
    },
    {
      "metadata": {
        "id": "xLtXUU0KZ71D",
        "colab_type": "text"
      },
      "cell_type": "markdown",
      "source": [
        "<br></br>\n",
        "# **Stemming / Tagging**\n",
        "> **nltk**"
      ]
    },
    {
      "metadata": {
        "id": "TIElWEP5Z71F",
        "colab_type": "code",
        "colab": {}
      },
      "cell_type": "code",
      "source": [
        "text_eng"
      ],
      "execution_count": 0,
      "outputs": []
    },
    {
      "metadata": {
        "id": "_gb9QhDeZ71I",
        "colab_type": "code",
        "colab": {}
      },
      "cell_type": "code",
      "source": [
        "from nltk.tokenize import TreebankWordTokenizer\n",
        "tokenizer = TreebankWordTokenizer()\n",
        "token     = tokenizer.tokenize(text_eng)\n",
        "token"
      ],
      "execution_count": 0,
      "outputs": []
    },
    {
      "metadata": {
        "id": "FTVSwMfEZ71L",
        "colab_type": "code",
        "colab": {}
      },
      "cell_type": "code",
      "source": [
        "from nltk import pos_tag\n",
        "pos_tag(token)"
      ],
      "execution_count": 0,
      "outputs": []
    },
    {
      "metadata": {
        "id": "VO4KNHTiZ71N",
        "colab_type": "code",
        "colab": {}
      },
      "cell_type": "code",
      "source": [
        "import nltk.help as nltk_help\n",
        "nltk_help.upenn_tagset('PRP')  # 대명사"
      ],
      "execution_count": 0,
      "outputs": []
    },
    {
      "metadata": {
        "id": "02fcxBpSZ71P",
        "colab_type": "code",
        "colab": {}
      },
      "cell_type": "code",
      "source": [
        "nltk_help.upenn_tagset('JJ')  # 형용사"
      ],
      "execution_count": 0,
      "outputs": []
    },
    {
      "metadata": {
        "id": "T4nQsJSNZ71R",
        "colab_type": "text"
      },
      "cell_type": "markdown",
      "source": [
        "<br></br>\n",
        "# **Stemming / Tagging (한글)**\n",
        "> **konlpy**"
      ]
    },
    {
      "metadata": {
        "id": "3OPD_pDsZ71S",
        "colab_type": "code",
        "colab": {}
      },
      "cell_type": "code",
      "source": [
        "from konlpy.tag import Okt\n",
        "twitter = Okt()\n",
        "\n",
        "# Stemming\n",
        "text = \"파이썬을 활용하여 자연어 분석 특강입니다\"\n",
        "print(twitter.pos(text, stem=\"true\"))"
      ],
      "execution_count": 0,
      "outputs": []
    },
    {
      "metadata": {
        "id": "4p2x1AauZ71W",
        "colab_type": "code",
        "colab": {}
      },
      "cell_type": "code",
      "source": [
        "print(twitter.pos(text))"
      ],
      "execution_count": 0,
      "outputs": []
    },
    {
      "metadata": {
        "id": "4NZOEx79Z71b",
        "colab_type": "code",
        "colab": {}
      },
      "cell_type": "code",
      "source": [
        "%%time\n",
        "from konlpy.tag import Kkma\n",
        "kkma = Kkma()\n",
        "print(kkma.pos(text))"
      ],
      "execution_count": 0,
      "outputs": []
    },
    {
      "metadata": {
        "id": "1TubZguRZ71d",
        "colab_type": "code",
        "colab": {}
      },
      "cell_type": "code",
      "source": [
        "%%time\n",
        "from konlpy.tag import Hannanum\n",
        "han = Hannanum()\n",
        "print(han.pos(text))"
      ],
      "execution_count": 0,
      "outputs": []
    }
  ]
}