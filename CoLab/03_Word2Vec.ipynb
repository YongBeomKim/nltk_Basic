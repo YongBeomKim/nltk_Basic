{
  "nbformat": 4,
  "nbformat_minor": 0,
  "metadata": {
    "colab": {
      "name": "03-Word2Vec.ipynb",
      "version": "0.3.2",
      "provenance": [],
      "collapsed_sections": []
    },
    "kernelspec": {
      "display_name": "Python 3",
      "language": "python",
      "name": "python3"
    }
  },
  "cells": [
    {
      "metadata": {
        "id": "map57sd02E7F",
        "colab_type": "text"
      },
      "cell_type": "markdown",
      "source": [
        "<img src=\"https://github.com/YongBeomKim/nltk_rnd/raw/master/data/test.jpg\">\n",
        "\n",
        "<br></br>\n",
        "# **Project4 | word2vec**\n",
        "\n",
        "\n",
        "## **1 데이터 전처리**"
      ]
    },
    {
      "metadata": {
        "id": "arKIrCwd2E7G",
        "colab_type": "code",
        "colab": {
          "base_uri": "https://localhost:8080/",
          "height": 1280
        },
        "outputId": "7d9981fc-51de-4a81-dcab-a94c925698db"
      },
      "cell_type": "code",
      "source": [
        "! apt-get update\n",
        "! apt-get install g++ openjdk-8-jdk \n",
        "! pip3  install  nltk konlpy wordcloud matplotlib gensim \n",
        "\n",
        "! apt-get install fonts-nanum*\n",
        "! apt-get install fontconfig\n",
        "! fc-cache -fv\n",
        "! cp /usr/share/fonts/truetype/nanum/Nanum* /usr/local/lib/python3.6/dist-packages/matplotlib/mpl-data/fonts/ttf/\n",
        "! rm -rf /content/.cache/matplotlib/*"
      ],
      "execution_count": 1,
      "outputs": [
        {
          "output_type": "stream",
          "text": [
            "\r0% [Working]\r            \rHit:1 http://security.ubuntu.com/ubuntu bionic-security InRelease\n",
            "\r0% [Connecting to archive.ubuntu.com (91.189.88.161)] [Connected to developer.d\r0% [1 InRelease gpgv 83.2 kB] [Connecting to archive.ubuntu.com (91.189.88.161)\r                                                                               \rHit:2 http://archive.ubuntu.com/ubuntu bionic InRelease\n",
            "\r0% [1 InRelease gpgv 83.2 kB] [Waiting for headers] [Waiting for headers] [Wait\r                                                                               \r0% [Waiting for headers] [Waiting for headers] [Waiting for headers]\r0% [2 InRelease gpgv 242 kB] [Waiting for headers] [Waiting for headers] [Waiti\r                                                                               \rHit:3 http://ppa.launchpad.net/graphics-drivers/ppa/ubuntu bionic InRelease\n",
            "\r                                                                               \r0% [2 InRelease gpgv 242 kB] [Waiting for headers] [Waiting for headers]\r                                                                        \rHit:4 http://archive.ubuntu.com/ubuntu bionic-updates InRelease\n",
            "\r0% [2 InRelease gpgv 242 kB] [Waiting for headers] [Waiting for headers]\r                                                                        \rIgn:5 https://developer.download.nvidia.com/compute/cuda/repos/ubuntu1710/x86_64  InRelease\n",
            "\r0% [2 InRelease gpgv 242 kB] [Waiting for headers] [Waiting for headers]\r                                                                        \rHit:6 http://archive.ubuntu.com/ubuntu bionic-backports InRelease\n",
            "\r                                                                        \r0% [2 InRelease gpgv 242 kB] [Waiting for headers]\r                                                  \rIgn:7 https://developer.download.nvidia.com/compute/machine-learning/repos/ubuntu1604/x86_64  InRelease\n",
            "\r                                                  \r0% [2 InRelease gpgv 242 kB]\r                            \rHit:8 https://developer.download.nvidia.com/compute/cuda/repos/ubuntu1710/x86_64  Release\n",
            "Hit:9 https://developer.download.nvidia.com/compute/machine-learning/repos/ubuntu1604/x86_64  Release\n",
            "Reading package lists... Done\n",
            "Reading package lists... Done\n",
            "Building dependency tree       \n",
            "Reading state information... Done\n",
            "g++ is already the newest version (4:7.3.0-3ubuntu2.1).\n",
            "openjdk-8-jdk is already the newest version (8u181-b13-1ubuntu0.18.04.1).\n",
            "0 upgraded, 0 newly installed, 0 to remove and 20 not upgraded.\n",
            "Requirement already satisfied: nltk in /usr/local/lib/python3.6/dist-packages (3.2.5)\n",
            "Requirement already satisfied: konlpy in /usr/local/lib/python3.6/dist-packages (0.5.1)\n",
            "Requirement already satisfied: wordcloud in /usr/local/lib/python3.6/dist-packages (1.5.0)\n",
            "Requirement already satisfied: matplotlib in /usr/local/lib/python3.6/dist-packages (2.1.2)\n",
            "Requirement already satisfied: gensim in /usr/local/lib/python3.6/dist-packages (3.6.0)\n",
            "Requirement already satisfied: six in /usr/local/lib/python3.6/dist-packages (from nltk) (1.11.0)\n",
            "Requirement already satisfied: JPype1>=0.5.7 in /usr/local/lib/python3.6/dist-packages (from konlpy) (0.6.3)\n",
            "Requirement already satisfied: numpy>=1.6.1 in /usr/local/lib/python3.6/dist-packages (from wordcloud) (1.14.6)\n",
            "Requirement already satisfied: pillow in /usr/local/lib/python3.6/dist-packages (from wordcloud) (4.0.0)\n",
            "Requirement already satisfied: cycler>=0.10 in /usr/local/lib/python3.6/dist-packages (from matplotlib) (0.10.0)\n",
            "Requirement already satisfied: python-dateutil>=2.1 in /usr/local/lib/python3.6/dist-packages (from matplotlib) (2.5.3)\n",
            "Requirement already satisfied: pytz in /usr/local/lib/python3.6/dist-packages (from matplotlib) (2018.7)\n",
            "Requirement already satisfied: pyparsing!=2.0.4,!=2.1.2,!=2.1.6,>=2.0.1 in /usr/local/lib/python3.6/dist-packages (from matplotlib) (2.3.0)\n",
            "Requirement already satisfied: scipy>=0.18.1 in /usr/local/lib/python3.6/dist-packages (from gensim) (1.1.0)\n",
            "Requirement already satisfied: smart-open>=1.2.1 in /usr/local/lib/python3.6/dist-packages (from gensim) (1.7.1)\n",
            "Requirement already satisfied: olefile in /usr/local/lib/python3.6/dist-packages (from pillow->wordcloud) (0.46)\n",
            "Requirement already satisfied: bz2file in /usr/local/lib/python3.6/dist-packages (from smart-open>=1.2.1->gensim) (0.98)\n",
            "Requirement already satisfied: boto3 in /usr/local/lib/python3.6/dist-packages (from smart-open>=1.2.1->gensim) (1.9.48)\n",
            "Requirement already satisfied: requests in /usr/local/lib/python3.6/dist-packages (from smart-open>=1.2.1->gensim) (2.18.4)\n",
            "Requirement already satisfied: boto>=2.32 in /usr/local/lib/python3.6/dist-packages (from smart-open>=1.2.1->gensim) (2.49.0)\n",
            "Requirement already satisfied: jmespath<1.0.0,>=0.7.1 in /usr/local/lib/python3.6/dist-packages (from boto3->smart-open>=1.2.1->gensim) (0.9.3)\n",
            "Requirement already satisfied: botocore<1.13.0,>=1.12.48 in /usr/local/lib/python3.6/dist-packages (from boto3->smart-open>=1.2.1->gensim) (1.12.48)\n",
            "Requirement already satisfied: s3transfer<0.2.0,>=0.1.10 in /usr/local/lib/python3.6/dist-packages (from boto3->smart-open>=1.2.1->gensim) (0.1.13)\n",
            "Requirement already satisfied: chardet<3.1.0,>=3.0.2 in /usr/local/lib/python3.6/dist-packages (from requests->smart-open>=1.2.1->gensim) (3.0.4)\n",
            "Requirement already satisfied: urllib3<1.23,>=1.21.1 in /usr/local/lib/python3.6/dist-packages (from requests->smart-open>=1.2.1->gensim) (1.22)\n",
            "Requirement already satisfied: idna<2.7,>=2.5 in /usr/local/lib/python3.6/dist-packages (from requests->smart-open>=1.2.1->gensim) (2.6)\n",
            "Requirement already satisfied: certifi>=2017.4.17 in /usr/local/lib/python3.6/dist-packages (from requests->smart-open>=1.2.1->gensim) (2018.10.15)\n",
            "Requirement already satisfied: docutils>=0.10 in /usr/local/lib/python3.6/dist-packages (from botocore<1.13.0,>=1.12.48->boto3->smart-open>=1.2.1->gensim) (0.14)\n",
            "Reading package lists... Done\n",
            "Building dependency tree       \n",
            "Reading state information... Done\n",
            "Note, selecting 'fonts-nanum-eco' for glob 'fonts-nanum*'\n",
            "Note, selecting 'fonts-nanum' for glob 'fonts-nanum*'\n",
            "Note, selecting 'fonts-nanum-gothic-light' for glob 'fonts-nanum*'\n",
            "Note, selecting 'fonts-nanum-coding' for glob 'fonts-nanum*'\n",
            "Note, selecting 'fonts-nanum-extra' for glob 'fonts-nanum*'\n",
            "fonts-nanum is already the newest version (20170925-1).\n",
            "fonts-nanum-coding is already the newest version (2.5-1).\n",
            "fonts-nanum-eco is already the newest version (1.000-6).\n",
            "fonts-nanum-extra is already the newest version (20170925-1).\n",
            "0 upgraded, 0 newly installed, 0 to remove and 20 not upgraded.\n",
            "Reading package lists... Done\n",
            "Building dependency tree       \n",
            "Reading state information... Done\n",
            "fontconfig is already the newest version (2.12.6-0ubuntu2).\n",
            "0 upgraded, 0 newly installed, 0 to remove and 20 not upgraded.\n",
            "/usr/share/fonts: caching, new cache contents: 0 fonts, 1 dirs\n",
            "/usr/share/fonts/truetype: caching, new cache contents: 0 fonts, 3 dirs\n",
            "/usr/share/fonts/truetype/dejavu: caching, new cache contents: 22 fonts, 0 dirs\n",
            "/usr/share/fonts/truetype/liberation: caching, new cache contents: 16 fonts, 0 dirs\n",
            "/usr/share/fonts/truetype/nanum: caching, new cache contents: 31 fonts, 0 dirs\n",
            "/usr/local/share/fonts: caching, new cache contents: 0 fonts, 0 dirs\n",
            "/root/.local/share/fonts: skipping, no such directory\n",
            "/root/.fonts: skipping, no such directory\n",
            "/var/cache/fontconfig: cleaning cache directory\n",
            "/root/.cache/fontconfig: not cleaning non-existent cache directory\n",
            "/root/.fontconfig: not cleaning non-existent cache directory\n",
            "fc-cache: succeeded\n"
          ],
          "name": "stdout"
        }
      ]
    },
    {
      "metadata": {
        "id": "QASzdx9T2E7J",
        "colab_type": "code",
        "colab": {}
      },
      "cell_type": "code",
      "source": [
        "speech_text = \"https://raw.githubusercontent.com/YongBeomKim/nltk_tutorial/master/data/pyongyang_fin.txt\"\n",
        "script_text = \"https://raw.githubusercontent.com/YongBeomKim/nltk_tutorial/master/data/movie_memories_of_murder_2003.txt\"\n",
        "font_file = \"/usr/local/lib/python3.6/dist-packages/matplotlib/mpl-data/fonts/ttf/NanumGothicCoding.ttf\""
      ],
      "execution_count": 0,
      "outputs": []
    },
    {
      "metadata": {
        "id": "cJAs8CR_2E7M",
        "colab_type": "code",
        "colab": {}
      },
      "cell_type": "code",
      "source": [
        "# 텍스트를 줄단위로 끊어서 불러온뒤\n",
        "# Token 단위로, 한글명사들을 추출한다\n",
        "def txtnoun(sentences , skip=False, tags=['Noun'], stem=True, set_tokens=False):\n",
        "    import re\n",
        "    from konlpy.tag import Okt\n",
        "    twitter = Okt()\n",
        "    result  = []\n",
        "    sentences = sentences.replace('\\n', '\\n|')\n",
        "    sentences = sentences.split('|')\n",
        "    for content in sentences:\n",
        "        texts      = content.replace('\\n', '') # 해당줄의 줄바꿈 내용 제거\n",
        "        tokenizer  = re.compile(r'[^ ㄱ-힣]+')  # 한글과 띄어쓰기를 제외한 모든 글자를 선택\n",
        "        token_data = tokenizer.sub('', texts)  # 한글과 띄어쓰기를 제외한 모든 부분을 제거\n",
        "        token_data = token_data.split(' ')\n",
        "        sentence   = []\n",
        "\n",
        "        for token in token_data:\n",
        "            # skip 대상이 없을 떄\n",
        "            if skip == False:\n",
        "                chk_tok = twitter.pos(token, stem=stem)\n",
        "                chk_tok = [temp[0]  for temp in chk_tok   if temp[1] in tags]\n",
        "                ckeck   = \"\".join(chk_tok)\n",
        "                if len(ckeck) > 1:\n",
        "                    sentence.append(ckeck)\n",
        "\n",
        "            # skip 내용이 있을 때\n",
        "            else:\n",
        "                if token.strip() in skip.keys():\n",
        "                    result.append(skip[token.strip()])\n",
        "                else:\n",
        "                    chk_tok = twitter.pos(token, stem=stem)\n",
        "                    chk_tok = [temp[0] for temp in chk_tok if temp[1] in tags]\n",
        "                    ckeck   = \"\".join(chk_tok)\n",
        "\n",
        "                    # 전처리가 끝난 결과가 skip에 해당여부 판단\n",
        "                    if ckeck.strip() in skip.keys():\n",
        "                        result.append(skip[ckeck.strip()])\n",
        "                    elif len(ckeck) > 1:\n",
        "                        sentence.append(ckeck)\n",
        "\n",
        "        # 단락별 작업이 끝난 뒤 '\\n'를 덧붙여서 작업을 종료\n",
        "        temp = \"\".join(sentence)\n",
        "        if len(temp) > 1:\n",
        "            sentence = \" \".join(sentence)\n",
        "            sentence += \"\\n\"\n",
        "            result.append(sentence)\n",
        "\n",
        "    if set_tokens == True:\n",
        "        from nltk.tokenize import word_tokenize\n",
        "        set_token = word_tokenize(\" \".join(result))\n",
        "        return list(set(set_token))\n",
        "\n",
        "    else:\n",
        "        return \" \".join(result)"
      ],
      "execution_count": 0,
      "outputs": []
    },
    {
      "metadata": {
        "id": "tzao0LgG2E7O",
        "colab_type": "code",
        "colab": {}
      },
      "cell_type": "code",
      "source": [
        "skips = {'두만':'박두만', '태윤':'서태윤', '용구':'조용구', '귀옥':'권귀옥', \n",
        "         '희봉':'구희봉', '동철':'신동철', '광호':'백광호', '병순':'조병순', \n",
        "         '해일':'박해일', '광호의':'백광호', '백광호의':'백광호'}"
      ],
      "execution_count": 0,
      "outputs": []
    },
    {
      "metadata": {
        "id": "RHXvEj5R2E7Q",
        "colab_type": "code",
        "colab": {
          "base_uri": "https://localhost:8080/",
          "height": 54
        },
        "outputId": "e98ab9ea-167d-4209-8385-d19b7eeeef10"
      },
      "cell_type": "code",
      "source": [
        "import requests\n",
        "sentences = requests.get(script_text).text\n",
        "sentences[:300]"
      ],
      "execution_count": 5,
      "outputs": [
        {
          "output_type": "execute_result",
          "data": {
            "text/plain": [
              "'박두만\\n서태윤\\n조용구\\n권귀옥\\n구희봉\\n신동철\\n백광호20대 초반. 정박아\\n조병순30대 후반. 변태성향\\n박해일20대 초반. 공장 노동자. ‘유력한 용의자’.\\n선본 남자, 동네 양아치들... 등등\\n30대 초반의 전직 간호조무사, 마을 ‘야매주사’ 여인.\\n안송여중 1학년 학생\\n소현의 단짝 친구\\n박보희, 이향숙, 독고현순, 박명자, 안미선.\\n화면 가득 한 남자 아이의 얼굴이 보여진다.\\n쏟아지는 햇살 아래, 맑은 눈빛의 아이는 카메라 정면을 응시하고 있다.\\n아이는 코스모스 위에 앉아있는 잠자리를 향해 살며시 손을 뻗는다.\\n휙~ 잠자리가 날아가 '"
            ]
          },
          "metadata": {
            "tags": []
          },
          "execution_count": 5
        }
      ]
    },
    {
      "metadata": {
        "id": "LdPIXOIW2E7S",
        "colab_type": "code",
        "colab": {}
      },
      "cell_type": "code",
      "source": [
        "sentences   = txtnoun(sentences, skip=skips, tags=['Noun'])\n",
        "script_file = 'script.txt'\n",
        "with open(script_file, 'w', encoding='utf-8') as file:\n",
        "    file.write(sentences)"
      ],
      "execution_count": 0,
      "outputs": []
    },
    {
      "metadata": {
        "id": "EWpKmWCA2E7U",
        "colab_type": "code",
        "colab": {
          "base_uri": "https://localhost:8080/",
          "height": 50
        },
        "outputId": "f14bde3d-1d91-46de-d0d7-72f6f0c0fd1d"
      },
      "cell_type": "code",
      "source": [
        "%%time\n",
        "from gensim.models import word2vec\n",
        "data  = word2vec.LineSentence(script_file)\n",
        "model = word2vec.Word2Vec(data, size=30, window=2, min_count=10, \n",
        "                          hs=1, workers=4, iter=100, sg=1)\n",
        "model_file = \"script.model\"\n",
        "model.save(model_file)"
      ],
      "execution_count": 7,
      "outputs": [
        {
          "output_type": "stream",
          "text": [
            "CPU times: user 1.61 s, sys: 114 ms, total: 1.73 s\n",
            "Wall time: 1.76 s\n"
          ],
          "name": "stdout"
        }
      ]
    },
    {
      "metadata": {
        "id": "QZiGa2-a2E7W",
        "colab_type": "code",
        "colab": {
          "base_uri": "https://localhost:8080/",
          "height": 34
        },
        "outputId": "a21a5ea0-c63f-46fe-8694-ae300bee9ab7"
      },
      "cell_type": "code",
      "source": [
        "# 저장된 학습모델파일 불러오기\n",
        "model = word2vec.Word2Vec.load(model_file)\n",
        "len(model.wv.vocab.keys())"
      ],
      "execution_count": 8,
      "outputs": [
        {
          "output_type": "execute_result",
          "data": {
            "text/plain": [
              "151"
            ]
          },
          "metadata": {
            "tags": []
          },
          "execution_count": 8
        }
      ]
    },
    {
      "metadata": {
        "id": "2kcZV2mO2E7Z",
        "colab_type": "code",
        "colab": {
          "base_uri": "https://localhost:8080/",
          "height": 2554
        },
        "outputId": "bafa8fc1-3fcd-4b4c-f658-f82d6a2ee9a4"
      },
      "cell_type": "code",
      "source": [
        "list(model.wv.index2word)"
      ],
      "execution_count": 9,
      "outputs": [
        {
          "output_type": "execute_result",
          "data": {
            "text/plain": [
              "['서태윤',\n",
              " '얼굴',\n",
              " '박두만',\n",
              " '여자',\n",
              " '조용구',\n",
              " '백광호',\n",
              " '박해일',\n",
              " '계속',\n",
              " '순간',\n",
              " '반장',\n",
              " '모습',\n",
              " '소현',\n",
              " '소리',\n",
              " '하나',\n",
              " '시작',\n",
              " '사람',\n",
              " '범인',\n",
              " '남자',\n",
              " '표정',\n",
              " '형사',\n",
              " '다시',\n",
              " '뭔가',\n",
              " '지금',\n",
              " '고개',\n",
              " '잠시',\n",
              " '아이',\n",
              " '눈빛',\n",
              " '설영',\n",
              " '보고',\n",
              " '여기',\n",
              " '얘기',\n",
              " '동네',\n",
              " '화면',\n",
              " '시체',\n",
              " '시선',\n",
              " '사진',\n",
              " '한번',\n",
              " '서류',\n",
              " '위로',\n",
              " '책상',\n",
              " '그림자',\n",
              " '새끼',\n",
              " '멀리',\n",
              " '점점',\n",
              " '머리',\n",
              " '갑자기',\n",
              " '이향숙',\n",
              " '문득',\n",
              " '사건',\n",
              " '발자국',\n",
              " '자기',\n",
              " '가운데',\n",
              " '당신',\n",
              " '아래',\n",
              " '박두',\n",
              " '불빛',\n",
              " '괴남자',\n",
              " '권귀옥',\n",
              " '진짜',\n",
              " '저기',\n",
              " '스타킹',\n",
              " '그냥',\n",
              " '목소리',\n",
              " '사무실',\n",
              " '모두',\n",
              " '운동화',\n",
              " '우리',\n",
              " '사이',\n",
              " '용의자',\n",
              " '현장',\n",
              " '조그만',\n",
              " '장님',\n",
              " '전경',\n",
              " '기차',\n",
              " '마주',\n",
              " '취조실',\n",
              " '바로',\n",
              " '발견',\n",
              " '임마',\n",
              " '잠깐',\n",
              " '다른',\n",
              " '자리',\n",
              " '박명자',\n",
              " '거기',\n",
              " '음악',\n",
              " '부분',\n",
              " '시점',\n",
              " '간다',\n",
              " '그거',\n",
              " '끄덕',\n",
              " '버럭',\n",
              " '우산',\n",
              " '변소',\n",
              " '어디',\n",
              " '정말',\n",
              " '잔뜩',\n",
              " '다리',\n",
              " '그대로',\n",
              " '똑바로',\n",
              " '생각',\n",
              " '서서히',\n",
              " '가득',\n",
              " '인상',\n",
              " '후레쉬',\n",
              " '너머',\n",
              " '순경',\n",
              " '저녁',\n",
              " '경찰',\n",
              " '훈련',\n",
              " '언덕',\n",
              " '구희봉',\n",
              " '카메라',\n",
              " '주위',\n",
              " '브래지어',\n",
              " '분위기',\n",
              " '아저씨',\n",
              " '구석',\n",
              " '피해자',\n",
              " '그게',\n",
              " '팬티',\n",
              " '누군가',\n",
              " '라디오',\n",
              " '의경',\n",
              " '방송',\n",
              " '빗줄기',\n",
              " '어둠속',\n",
              " '인부',\n",
              " '조병순',\n",
              " '유전자',\n",
              " '바람',\n",
              " '서로',\n",
              " '주변',\n",
              " '참깨밭',\n",
              " '근처',\n",
              " '듯이',\n",
              " '가방',\n",
              " '코피',\n",
              " '휴지',\n",
              " '권기옥',\n",
              " '아무',\n",
              " '기억',\n",
              " '자신',\n",
              " '이건',\n",
              " '신문',\n",
              " '조심스레',\n",
              " '빗소리',\n",
              " '빗물',\n",
              " '학교',\n",
              " '언덕집',\n",
              " '조각',\n",
              " '총구']"
            ]
          },
          "metadata": {
            "tags": []
          },
          "execution_count": 9
        }
      ]
    },
    {
      "metadata": {
        "id": "KLblj0ez2E7b",
        "colab_type": "text"
      },
      "cell_type": "markdown",
      "source": [
        "<br></br>\n",
        "## **4 Word2Vec 모델 내용 확인**\n",
        "모델을 활용하여 유력한 범인을 찾아보자!!\n",
        "\n",
        "<img src=\"./data/test.jpg\" width='800'>"
      ]
    },
    {
      "metadata": {
        "id": "uuMkIXlR2E7c",
        "colab_type": "code",
        "colab": {
          "base_uri": "https://localhost:8080/",
          "height": 238
        },
        "outputId": "3d5de946-b393-4b40-a085-695d5424404a"
      },
      "cell_type": "code",
      "source": [
        "# 범인과 관련된 내용 중 사람이름이 안나옴...\n",
        "model.wv.most_similar('범인', topn=10)"
      ],
      "execution_count": 10,
      "outputs": [
        {
          "output_type": "stream",
          "text": [
            "/usr/local/lib/python3.6/dist-packages/gensim/matutils.py:737: FutureWarning: Conversion of the second argument of issubdtype from `int` to `np.signedinteger` is deprecated. In future, it will be treated as `np.int64 == np.dtype(int).type`.\n",
            "  if np.issubdtype(vec.dtype, np.int):\n"
          ],
          "name": "stderr"
        },
        {
          "output_type": "execute_result",
          "data": {
            "text/plain": [
              "[('우리', 0.7886730432510376),\n",
              " ('얘기', 0.6760802268981934),\n",
              " ('변소', 0.668979287147522),\n",
              " ('그냥', 0.6410938501358032),\n",
              " ('거기', 0.55708247423172),\n",
              " ('우산', 0.5369104146957397),\n",
              " ('당신', 0.5343594551086426),\n",
              " ('사건', 0.5269545912742615),\n",
              " ('학교', 0.520767331123352),\n",
              " ('그거', 0.5149930119514465)]"
            ]
          },
          "metadata": {
            "tags": []
          },
          "execution_count": 10
        }
      ]
    },
    {
      "metadata": {
        "id": "AqYiVNlP2E7e",
        "colab_type": "code",
        "colab": {
          "base_uri": "https://localhost:8080/",
          "height": 574
        },
        "outputId": "7368245c-2b14-494f-da21-e73424381cc7"
      },
      "cell_type": "code",
      "source": [
        "# 현장과 가장 가깝게 등장한 인물이 1명 등장\n",
        "model.wv.most_similar('현장', topn=30)"
      ],
      "execution_count": 11,
      "outputs": [
        {
          "output_type": "stream",
          "text": [
            "/usr/local/lib/python3.6/dist-packages/gensim/matutils.py:737: FutureWarning: Conversion of the second argument of issubdtype from `int` to `np.signedinteger` is deprecated. In future, it will be treated as `np.int64 == np.dtype(int).type`.\n",
            "  if np.issubdtype(vec.dtype, np.int):\n"
          ],
          "name": "stderr"
        },
        {
          "output_type": "execute_result",
          "data": {
            "text/plain": [
              "[('사진', 0.6999064683914185),\n",
              " ('사건', 0.6996743679046631),\n",
              " ('용의자', 0.6884362101554871),\n",
              " ('참깨밭', 0.6351531744003296),\n",
              " ('이향숙', 0.6337133646011353),\n",
              " ('시점', 0.5667739510536194),\n",
              " ('자신', 0.5631481409072876),\n",
              " ('얼굴', 0.5505149960517883),\n",
              " ('박명자', 0.5487833023071289),\n",
              " ('서류', 0.5407856702804565),\n",
              " ('동네', 0.5349427461624146),\n",
              " ('빗물', 0.5308415293693542),\n",
              " ('경찰', 0.5267091393470764),\n",
              " ('바로', 0.5160379409790039),\n",
              " ('이건', 0.4960482120513916),\n",
              " ('발자국', 0.48361098766326904),\n",
              " ('보고', 0.4778910279273987),\n",
              " ('순경', 0.47264692187309265),\n",
              " ('듯이', 0.4719063639640808),\n",
              " ('카메라', 0.4597555994987488),\n",
              " ('근처', 0.44851255416870117),\n",
              " ('전경', 0.4464603066444397),\n",
              " ('후레쉬', 0.4234921932220459),\n",
              " ('위로', 0.4214373826980591),\n",
              " ('백광호', 0.4058763086795807),\n",
              " ('운동화', 0.4010370373725891),\n",
              " ('잔뜩', 0.39954012632369995),\n",
              " ('저녁', 0.3994610011577606),\n",
              " ('뭔가', 0.3954169750213623),\n",
              " ('그대로', 0.39448338747024536)]"
            ]
          },
          "metadata": {
            "tags": []
          },
          "execution_count": 11
        }
      ]
    },
    {
      "metadata": {
        "id": "Uvtbcw3P2E7g",
        "colab_type": "code",
        "colab": {
          "base_uri": "https://localhost:8080/",
          "height": 406
        },
        "outputId": "59c44f3f-6e9f-4a4c-a360-ab1510c37d14"
      },
      "cell_type": "code",
      "source": [
        "# 현장 과 백광호 와 밀접한 증거들 중에 방해가 되는 내용을 찾는다\n",
        "model.wv.most_similar(['현장','백광호'], topn=20)"
      ],
      "execution_count": 12,
      "outputs": [
        {
          "output_type": "stream",
          "text": [
            "/usr/local/lib/python3.6/dist-packages/gensim/matutils.py:737: FutureWarning: Conversion of the second argument of issubdtype from `int` to `np.signedinteger` is deprecated. In future, it will be treated as `np.int64 == np.dtype(int).type`.\n",
            "  if np.issubdtype(vec.dtype, np.int):\n"
          ],
          "name": "stderr"
        },
        {
          "output_type": "execute_result",
          "data": {
            "text/plain": [
              "[('얼굴', 0.7750115394592285),\n",
              " ('사진', 0.7544788718223572),\n",
              " ('용의자', 0.7385113835334778),\n",
              " ('사건', 0.6294122338294983),\n",
              " ('참깨밭', 0.6272547841072083),\n",
              " ('이향숙', 0.6143202185630798),\n",
              " ('시점', 0.5956884622573853),\n",
              " ('이건', 0.5721720457077026),\n",
              " ('발자국', 0.5672428011894226),\n",
              " ('박두만', 0.5496323108673096),\n",
              " ('뭔가', 0.5367729663848877),\n",
              " ('조용구', 0.5360742211341858),\n",
              " ('그대로', 0.5333444476127625),\n",
              " ('듯이', 0.5244333744049072),\n",
              " ('총구', 0.518619179725647),\n",
              " ('서류', 0.5081196427345276),\n",
              " ('자신', 0.5071927905082703),\n",
              " ('보고', 0.4959295988082886),\n",
              " ('똑바로', 0.4866955280303955),\n",
              " ('전경', 0.4855080246925354)]"
            ]
          },
          "metadata": {
            "tags": []
          },
          "execution_count": 12
        }
      ]
    },
    {
      "metadata": {
        "id": "U71KpBZ32E7i",
        "colab_type": "code",
        "colab": {
          "base_uri": "https://localhost:8080/",
          "height": 406
        },
        "outputId": "dbd7e93e-5521-4522-fd8b-4e3c3159bfb7"
      },
      "cell_type": "code",
      "source": [
        "# 현장 과 백광호 와 밀접한 증거들 중에 '참깨밭' 이 계속 방해가 됨\n",
        "# 참깨밭에 백광호가 밀접하게 연결되어 있어서 이를 제외한 분석이 필요\n",
        "model.wv.most_similar(['현장','백광호'], negative=['참깨밭'], topn=20)"
      ],
      "execution_count": 13,
      "outputs": [
        {
          "output_type": "stream",
          "text": [
            "/usr/local/lib/python3.6/dist-packages/gensim/matutils.py:737: FutureWarning: Conversion of the second argument of issubdtype from `int` to `np.signedinteger` is deprecated. In future, it will be treated as `np.int64 == np.dtype(int).type`.\n",
            "  if np.issubdtype(vec.dtype, np.int):\n"
          ],
          "name": "stderr"
        },
        {
          "output_type": "execute_result",
          "data": {
            "text/plain": [
              "[('얼굴', 0.7826732993125916),\n",
              " ('똑바로', 0.6800731420516968),\n",
              " ('용의자', 0.6487339735031128),\n",
              " ('사진', 0.6282622814178467),\n",
              " ('아래', 0.544635534286499),\n",
              " ('시점', 0.5417014360427856),\n",
              " ('눈빛', 0.527199387550354),\n",
              " ('보고', 0.5262603163719177),\n",
              " ('그대로', 0.5228623151779175),\n",
              " ('총구', 0.5135632157325745),\n",
              " ('인부', 0.49444302916526794),\n",
              " ('다리', 0.4799462556838989),\n",
              " ('구희봉', 0.4775776267051697),\n",
              " ('조용구', 0.4762415587902069),\n",
              " ('서류', 0.476196825504303),\n",
              " ('빗물', 0.46337082982063293),\n",
              " ('박두만', 0.45814788341522217),\n",
              " ('서태윤', 0.4510514736175537),\n",
              " ('가득', 0.43810519576072693),\n",
              " ('박해일', 0.4261661469936371)]"
            ]
          },
          "metadata": {
            "tags": []
          },
          "execution_count": 13
        }
      ]
    },
    {
      "metadata": {
        "id": "wLjqctfO2E7l",
        "colab_type": "text"
      },
      "cell_type": "markdown",
      "source": [
        "<br></br>\n",
        "## **5 Visulaization**\n",
        "gensim"
      ]
    },
    {
      "metadata": {
        "id": "0MyaYczU2E7m",
        "colab_type": "code",
        "colab": {
          "base_uri": "https://localhost:8080/",
          "height": 70
        },
        "outputId": "873baeb3-699d-4bfd-e88d-f3928c8878d9"
      },
      "cell_type": "code",
      "source": [
        "vocab = list(model.wv.vocab)\n",
        "X        = model[vocab]"
      ],
      "execution_count": 14,
      "outputs": [
        {
          "output_type": "stream",
          "text": [
            "/usr/local/lib/python3.6/dist-packages/ipykernel_launcher.py:2: DeprecationWarning: Call to deprecated `__getitem__` (Method will be removed in 4.0.0, use self.wv.__getitem__() instead).\n",
            "  \n"
          ],
          "name": "stderr"
        }
      ]
    },
    {
      "metadata": {
        "id": "FHWJRVeq2E7p",
        "colab_type": "code",
        "colab": {}
      },
      "cell_type": "code",
      "source": [
        "from sklearn.manifold import TSNE\n",
        "tsne    = TSNE(n_components = 2)\n",
        "X_tsne = tsne.fit_transform(X)"
      ],
      "execution_count": 0,
      "outputs": []
    },
    {
      "metadata": {
        "id": "C63MF3yP2E7r",
        "colab_type": "code",
        "colab": {
          "base_uri": "https://localhost:8080/",
          "height": 195
        },
        "outputId": "3374035a-1b7c-48ec-a06b-039a0c2ac4aa"
      },
      "cell_type": "code",
      "source": [
        "import pandas as pd\n",
        "df = pd.DataFrame(X_tsne, \n",
        "                  index   = vocab, \n",
        "                  columns = ['x', 'y'])\n",
        "df.head()"
      ],
      "execution_count": 16,
      "outputs": [
        {
          "output_type": "execute_result",
          "data": {
            "text/html": [
              "<div>\n",
              "<style scoped>\n",
              "    .dataframe tbody tr th:only-of-type {\n",
              "        vertical-align: middle;\n",
              "    }\n",
              "\n",
              "    .dataframe tbody tr th {\n",
              "        vertical-align: top;\n",
              "    }\n",
              "\n",
              "    .dataframe thead th {\n",
              "        text-align: right;\n",
              "    }\n",
              "</style>\n",
              "<table border=\"1\" class=\"dataframe\">\n",
              "  <thead>\n",
              "    <tr style=\"text-align: right;\">\n",
              "      <th></th>\n",
              "      <th>x</th>\n",
              "      <th>y</th>\n",
              "    </tr>\n",
              "  </thead>\n",
              "  <tbody>\n",
              "    <tr>\n",
              "      <th>박두만</th>\n",
              "      <td>-1.001242</td>\n",
              "      <td>2.197272</td>\n",
              "    </tr>\n",
              "    <tr>\n",
              "      <th>서태윤</th>\n",
              "      <td>-0.128083</td>\n",
              "      <td>1.784594</td>\n",
              "    </tr>\n",
              "    <tr>\n",
              "      <th>조용구</th>\n",
              "      <td>-0.506354</td>\n",
              "      <td>2.947770</td>\n",
              "    </tr>\n",
              "    <tr>\n",
              "      <th>권귀옥</th>\n",
              "      <td>-0.633408</td>\n",
              "      <td>4.136950</td>\n",
              "    </tr>\n",
              "    <tr>\n",
              "      <th>구희봉</th>\n",
              "      <td>-0.756728</td>\n",
              "      <td>4.821612</td>\n",
              "    </tr>\n",
              "  </tbody>\n",
              "</table>\n",
              "</div>"
            ],
            "text/plain": [
              "            x         y\n",
              "박두만 -1.001242  2.197272\n",
              "서태윤 -0.128083  1.784594\n",
              "조용구 -0.506354  2.947770\n",
              "권귀옥 -0.633408  4.136950\n",
              "구희봉 -0.756728  4.821612"
            ]
          },
          "metadata": {
            "tags": []
          },
          "execution_count": 16
        }
      ]
    },
    {
      "metadata": {
        "id": "qFXl4R842E7t",
        "colab_type": "code",
        "colab": {
          "base_uri": "https://localhost:8080/",
          "height": 700
        },
        "outputId": "765e3e87-55f3-4b77-b8d5-eb00c106d782"
      },
      "cell_type": "code",
      "source": [
        "%matplotlib inline\n",
        "import matplotlib\n",
        "matplotlib.font_manager._rebuild()\n",
        "matplotlib.rc('font', family='NanumGothic')\n",
        "\n",
        "import matplotlib.pyplot as plt\n",
        "fig  = plt.figure(figsize=(12,12))\n",
        "ax  = fig.add_subplot(1, 1, 1)\n",
        "ax.scatter(df['x'], df['y'])\n",
        "for word, pos in df.iterrows():\n",
        "    ax.annotate(word, pos, fontsize=15)\n",
        "plt.grid(True)"
      ],
      "execution_count": 17,
      "outputs": [
        {
          "output_type": "display_data",
          "data": {
            "image/png": "[encoded data removed]",
            "text/plain": [
              "<matplotlib.figure.Figure at 0x7fa869cd8710>"
            ]
          },
          "metadata": {
            "tags": []
          }
        }
      ]
    },
    {
      "metadata": {
        "id": "ZfxoDa9a2E7v",
        "colab_type": "text"
      },
      "cell_type": "markdown",
      "source": [
        "<br></br>\n",
        "## **6 결과의 해석 및 활용**\n",
        "1. 유사관계, 반대관계로 **출력된 모든 Token들이 가치가 있지는 않다**\n",
        "1. **min_count, Vector 갯수** 2가지 조건만 사용하여 모델을 생성한다\n",
        "1. Word2Vec 도 **문서를 분석하는 도구**에 불과 (절대적 **가치를 창출하는 기법** 으로 오해 X)\n",
        "1. 해당 분야의 **잘 정리된 Document로 학습한 Word2Vec 모델** 에서 **유의미 한 token 들의 관계** 를 Template으로 잘 정리\n",
        "1. 분석대상 문서를 **유사한 조건으로 word2vec 모델** 을 만들고, **앞에서 정리된 Template와** 비교하여 결과\n",
        "다듬기\n",
        "1. 시나리오의 분석 경우\n",
        "    1. 결과물 중 인물의 Token 만 활용하여 분석\n",
        "    1. 결과물 중 증거물의 Token 만 활용하여 분석\n",
        "    1. 결과물 중 장소의 Token 만 활용하여 분석"
      ]
    },
    {
      "metadata": {
        "id": "Q9tysU-J2E7w",
        "colab_type": "code",
        "colab": {}
      },
      "cell_type": "code",
      "source": [
        "# model 에 등장하는 인물들\n",
        "charator = [\"박두만\", \"서태윤\", \"조용구\", \"권귀옥\", \"구희봉\", \"신동철\", \"백광호\",\n",
        "            \"조병순\", \"박해일\", \"박보희\", \"이향숙\", \"독고현순\", \"박명자\", \"안미선\", \n",
        "            \"반장\", \"소현\", \"범인\", \"형사\", '괴남자', '순경','피해자', '권기옥','용의자']"
      ],
      "execution_count": 0,
      "outputs": []
    },
    {
      "metadata": {
        "id": "Fdw-dFLA2E7y",
        "colab_type": "code",
        "colab": {}
      },
      "cell_type": "code",
      "source": [
        "# model 에 등장하는 장소명 들\n",
        "area = ['현장', '사무실', '취조실', '변소', '참깨밭', '빗줄기', '어둠속', '언덕집']"
      ],
      "execution_count": 0,
      "outputs": []
    },
    {
      "metadata": {
        "id": "WoOSWaoS2E70",
        "colab_type": "code",
        "colab": {}
      },
      "cell_type": "code",
      "source": [
        "# model 에 등장하는 Item 들\n",
        "items = ['브래지어', '팬티', '우산', '운동화', '스타킹', '목소리', '불빛', '음악', '후레쉬', \n",
        "         '카메라', '라디오', '방송', '유전자', '가방', '코피', '휴지', '신문', '총구']"
      ],
      "execution_count": 0,
      "outputs": []
    }
  ]
}