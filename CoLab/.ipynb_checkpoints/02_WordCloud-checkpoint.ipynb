{
 "cells": [
  {
   "cell_type": "markdown",
   "metadata": {
    "colab_type": "text",
    "id": "9cKsclU_gOqs"
   },
   "source": [
    "# **Chapter 3 Visulaizaion**\n",
    "\n",
    "## **Word Cloud - 말뭉치 응용**"
   ]
  },
  {
   "cell_type": "code",
   "execution_count": null,
   "metadata": {
    "colab": {},
    "colab_type": "code",
    "id": "yuAi6auHgOqu"
   },
   "outputs": [],
   "source": [
    "! apt-get update\n",
    "! apt-get install g++ openjdk-8-jdk \n",
    "! pip3 install nltk konlpy wordcloud matplotlib\n",
    "\n",
    "! apt-get install fonts-nanum-coding\n",
    "! apt-get install fontconfig\n",
    "! fc-cache -fv\n",
    "! cp /usr/share/fonts/truetype/nanum/Nanum* /usr/local/lib/python3.6/dist-packages/matplotlib/mpl-data/fonts/ttf/\n",
    "! rm -rf /content/.cache/matplotlib/*"
   ]
  },
  {
   "cell_type": "code",
   "execution_count": null,
   "metadata": {
    "colab": {},
    "colab_type": "code",
    "id": "6xXHmrJvw0d_"
   },
   "outputs": [],
   "source": [
    "! ls /usr/local/lib/python3.6/dist-packages/matplotlib/mpl-data/fonts/ttf/Nanum*.*"
   ]
  },
  {
   "cell_type": "code",
   "execution_count": null,
   "metadata": {
    "colab": {},
    "colab_type": "code",
    "id": "d6WiHUs3gOqy"
   },
   "outputs": [],
   "source": [
    "speech_text = \"https://raw.githubusercontent.com/YongBeomKim/nltk_tutorial/master/data/pyongyang_fin.txt\"\n",
    "script_text = \"https://raw.githubusercontent.com/YongBeomKim/nltk_tutorial/master/data/movie_memories_of_murder_2003.txt\"\n",
    "font_file = \"/usr/local/lib/python3.6/dist-packages/matplotlib/mpl-data/fonts/ttf/NanumGothicCoding.ttf\""
   ]
  },
  {
   "cell_type": "code",
   "execution_count": null,
   "metadata": {
    "colab": {},
    "colab_type": "code",
    "id": "wY1XzDAVgOq1"
   },
   "outputs": [],
   "source": [
    "import requests\n",
    "import pandas as pd\n",
    "import matplotlib.pyplot as plt\n",
    "from wordcloud import WordCloud\n",
    "from nltk import FreqDist\n",
    "from nltk.tokenize import word_tokenize\n",
    "import nltk\n",
    "nltk.download('punkt')"
   ]
  },
  {
   "cell_type": "code",
   "execution_count": null,
   "metadata": {
    "colab": {},
    "colab_type": "code",
    "id": "0Wlv4lFMgOq3"
   },
   "outputs": [],
   "source": [
    "texts = requests.get(speech_text).text\n",
    "texts[:100]"
   ]
  },
  {
   "cell_type": "code",
   "execution_count": null,
   "metadata": {
    "colab": {},
    "colab_type": "code",
    "id": "4pcUjBCMgOq5"
   },
   "outputs": [],
   "source": [
    "%matplotlib inline\n",
    "wcloud = WordCloud(font_file).generate(texts)\n",
    "plt.figure(figsize=(12,12))\n",
    "plt.imshow(wcloud)\n",
    "plt.axis(\"off\")"
   ]
  },
  {
   "cell_type": "code",
   "execution_count": null,
   "metadata": {
    "colab": {},
    "colab_type": "code",
    "id": "_3SC8u5XgOq7"
   },
   "outputs": [],
   "source": [
    "# Token 빈도결과값\n",
    "tokens  = word_tokenize(texts)\n",
    "freqtxt = pd.Series(dict(FreqDist(tokens))).sort_values(ascending=False)\n",
    "freqtxt[:10]"
   ]
  },
  {
   "cell_type": "markdown",
   "metadata": {
    "colab_type": "text",
    "id": "JLPs28XGgOq9"
   },
   "source": [
    "<br/>\n",
    "## **명사만 추출하여 Wordcloud 만들기**"
   ]
  },
  {
   "cell_type": "code",
   "execution_count": null,
   "metadata": {
    "colab": {},
    "colab_type": "code",
    "id": "GiT52CG8gOq-"
   },
   "outputs": [],
   "source": [
    "texts[:200]"
   ]
  },
  {
   "cell_type": "code",
   "execution_count": null,
   "metadata": {
    "colab": {},
    "colab_type": "code",
    "id": "Ccneb_DTgOrA"
   },
   "outputs": [],
   "source": [
    "# Twitter 모듈을 활용하여 명사만 추출\n",
    "from konlpy.tag import Okt \n",
    "twitter     = Okt()\n",
    "tokens      = twitter.pos(texts, stem=True)\n",
    "tokens_noun = [token[0]   for token in tokens  \n",
    "                          if token[1] == \"Noun\"]\n",
    "texts_noun  = \" \".join(tokens_noun)\n",
    "texts_noun[:300]"
   ]
  },
  {
   "cell_type": "code",
   "execution_count": null,
   "metadata": {
    "colab": {},
    "colab_type": "code",
    "id": "23wc9rfkgOrC"
   },
   "outputs": [],
   "source": [
    "%matplotlib inline\n",
    "plt.figure(figsize=(12,12))\n",
    "wcloud = WordCloud(font_file).generate(texts_noun)\n",
    "plt.imshow(wcloud)\n",
    "plt.axis(\"off\")"
   ]
  },
  {
   "cell_type": "code",
   "execution_count": null,
   "metadata": {
    "colab": {},
    "colab_type": "code",
    "id": "rAdYccdSgOrE"
   },
   "outputs": [],
   "source": [
    "# Token 빈도결과값\n",
    "tokens_noun  = word_tokenize(texts_noun)\n",
    "freqtxt      = pd.Series(dict(FreqDist(tokens_noun))).sort_values(ascending=False)\n",
    "freqtxt[:20]"
   ]
  }
 ],
 "metadata": {
  "colab": {
   "collapsed_sections": [],
   "name": "02-WordCloud.ipynb",
   "provenance": [],
   "version": "0.3.2"
  },
  "kernelspec": {
   "display_name": "Python 3",
   "language": "python",
   "name": "python3"
  },
  "language_info": {
   "codemirror_mode": {
    "name": "ipython",
    "version": 3
   },
   "file_extension": ".py",
   "mimetype": "text/x-python",
   "name": "python",
   "nbconvert_exporter": "python",
   "pygments_lexer": "ipython3",
   "version": "3.6.3"
  }
 },
 "nbformat": 4,
 "nbformat_minor": 2
}
