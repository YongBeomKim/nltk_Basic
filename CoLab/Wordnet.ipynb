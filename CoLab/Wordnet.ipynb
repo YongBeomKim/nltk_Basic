{
  "nbformat": 4,
  "nbformat_minor": 0,
  "metadata": {
    "colab": {
      "name": "Wordnet_Parsing.ipynb",
      "version": "0.3.2",
      "provenance": []
    },
    "kernelspec": {
      "display_name": "Python 3",
      "language": "python",
      "name": "python3"
    }
  },
  "cells": [
    {
      "metadata": {
        "id": "xVExYqDizWSe",
        "colab_type": "text"
      },
      "cell_type": "markdown",
      "source": [
        "# **WordNet 을 활용한 문장분석 및 의미구분**\n",
        "문법적 구조를 활용한 분석"
      ]
    },
    {
      "metadata": {
        "id": "ZO_oKZlezcLk",
        "colab_type": "code",
        "colab": {}
      },
      "cell_type": "code",
      "source": [
        "! pip3 install nltk\n",
        "! pip install pywsd"
      ],
      "execution_count": 0,
      "outputs": []
    },
    {
      "metadata": {
        "id": "A0pbXQ073MoK",
        "colab_type": "code",
        "colab": {}
      },
      "cell_type": "code",
      "source": [
        "import nltk\n",
        "nltk.download('treebank')\n",
        "nltk.download('wordnet')\n",
        "nltk.download('stopwords')\n",
        "nltk.download('averaged_perceptron_tagger')\n",
        "nltk.download('punkt')"
      ],
      "execution_count": 0,
      "outputs": []
    },
    {
      "metadata": {
        "id": "sgj4wE8NzWS1",
        "colab_type": "code",
        "colab": {}
      },
      "cell_type": "code",
      "source": [
        "# 촘스키 CGF 문법규칙\n",
        "from nltk.grammar import toy_pcfg2\n",
        "grammar = toy_pcfg2\n",
        "print(grammar)"
      ],
      "execution_count": 0,
      "outputs": []
    },
    {
      "metadata": {
        "id": "XO64HgtKzWTC",
        "colab_type": "code",
        "colab": {}
      },
      "cell_type": "code",
      "source": [
        "# WordNet 데이터를 활용한 의미관계 분석\n",
        "from nltk.corpus import wordnet as wn\n",
        "word = 'bank'\n",
        "bank = wn.synset('trust.v.01')\n",
        "\n",
        "print(\"Synset list : \\n{}\\nbank.n.01 예제 : \\n{}\\ntrust.v.01 뜻 :\\n{}\".format(\n",
        "    wn.synsets(word),\n",
        "    wn.synset('bank.n.01').examples(),\n",
        "    bank.definition()))"
      ],
      "execution_count": 0,
      "outputs": []
    },
    {
      "metadata": {
        "id": "yxd_6tpQzWTr",
        "colab_type": "code",
        "colab": {}
      },
      "cell_type": "code",
      "source": [
        "# pywsd 를 사용한 문장 내 의미분석\n",
        "# sent = 'I went to the bank to deposit my money'\n",
        "sent          = 'I bank my money'\n",
        "ambiguous = 'bank'\n",
        "\n",
        "from pywsd.lesk import simple_lesk\n",
        "answer = simple_lesk(sent, ambiguous)\n",
        "answer.definition()"
      ],
      "execution_count": 0,
      "outputs": []
    }
  ]
}