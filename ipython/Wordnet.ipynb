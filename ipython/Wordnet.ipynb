{
 "cells": [
  {
   "cell_type": "markdown",
   "metadata": {
    "colab_type": "text",
    "id": "xVExYqDizWSe"
   },
   "source": [
    "# **통계를 활용한 자연어 분석**\n",
    "## **1 WordNet 을 활용한 문장분석 및 의미구분**\n",
    "문법적 구조를 활용한 분석"
   ]
  },
  {
   "cell_type": "code",
   "execution_count": null,
   "metadata": {
    "colab": {},
    "colab_type": "code",
    "id": "A0pbXQ073MoK"
   },
   "outputs": [],
   "source": [
    "# ! pip3 install nltk pywsd symspellpy\n",
    "\n",
    "# import nltk\n",
    "# nltk.download('treebank')\n",
    "# nltk.download('wordnet')\n",
    "# nltk.download('stopwords')\n",
    "# nltk.download('averaged_perceptron_tagger')\n",
    "# nltk.download('punkt')"
   ]
  },
  {
   "cell_type": "code",
   "execution_count": null,
   "metadata": {
    "colab": {},
    "colab_type": "code",
    "id": "sgj4wE8NzWS1"
   },
   "outputs": [],
   "source": [
    "# 촘스키 CGF 문법규칙\n",
    "from nltk.grammar import toy_pcfg2\n",
    "grammar = toy_pcfg2\n",
    "print(grammar)"
   ]
  },
  {
   "cell_type": "code",
   "execution_count": null,
   "metadata": {
    "colab": {},
    "colab_type": "code",
    "id": "XO64HgtKzWTC"
   },
   "outputs": [],
   "source": [
    "# WordNet 데이터를 활용한 의미관계 분석\n",
    "from nltk.corpus import wordnet as wn\n",
    "word = 'bank'\n",
    "\n",
    "print(\"Synset list : \\n{}\\n\\nbank.n.02 뜻과 예제 : \\n{}\\n{}\\n\\ntrust.v.01 뜻과 예제 :\\n{}\\n{}\".format(\n",
    "    wn.synsets(word),\n",
    "    wn.synset('bank.n.02').definition(), wn.synset('bank.n.02').examples(),\n",
    "    wn.synset('trust.v.01').definition(), wn.synset('trust.v.01').examples()))"
   ]
  },
  {
   "cell_type": "code",
   "execution_count": null,
   "metadata": {
    "colab": {},
    "colab_type": "code",
    "id": "yxd_6tpQzWTr"
   },
   "outputs": [],
   "source": [
    "# pywsd 를 사용한 문장 내 의미분석\n",
    "sent = 'I went to the bank to deposit my money'\n",
    "# sent    = 'I bank my money'\n",
    "ambiguous = 'bank'\n",
    "\n",
    "from pywsd.lesk import simple_lesk\n",
    "answer = simple_lesk(sent, ambiguous)\n",
    "answer.definition()"
   ]
  },
  {
   "cell_type": "markdown",
   "metadata": {
    "colab_type": "text",
    "id": "xVExYqDizWSe"
   },
   "source": [
    "## **2 symspellpy 을 활용한 오타찾기**\n",
    "단어의 출현 빈도분석 통계를 활용"
   ]
  },
  {
   "cell_type": "code",
   "execution_count": null,
   "metadata": {},
   "outputs": [],
   "source": [
    "from symspellpy.symspellpy import SymSpell\n",
    "\n",
    "def spellCheck(dict_file, sentence):\n",
    "    max_edit_dist, prefix_length = 0, 7\n",
    "    term_index, count_index      = 0, 1\n",
    "    \n",
    "    sym_spell = SymSpell(max_edit_dist, prefix_length)\n",
    "    if not sym_spell.load_dictionary(dict_file, term_index, count_index):\n",
    "        print(\"사전이 없습니다\"); return\n",
    "    \n",
    "    result = sym_spell.word_segmentation(sentence)\n",
    "    print(\"오타 수정결과: {}\\n편집거리 총합: {}\".format(\n",
    "        result.corrected_string, \n",
    "        result.distance_sum))"
   ]
  },
  {
   "cell_type": "code",
   "execution_count": null,
   "metadata": {},
   "outputs": [],
   "source": [
    "text = \"thequickbrownfoxjumpsoverthelazydog\"\n",
    "spellCheck(\"../data/frequency_dictionary_en_82_765.txt\", sentence=text)"
   ]
  }
 ],
 "metadata": {
  "colab": {
   "name": "Wordnet_Parsing.ipynb",
   "provenance": [],
   "version": "0.3.2"
  },
  "kernelspec": {
   "display_name": "Python 3",
   "language": "python",
   "name": "python3"
  },
  "language_info": {
   "codemirror_mode": {
    "name": "ipython",
    "version": 3
   },
   "file_extension": ".py",
   "mimetype": "text/x-python",
   "name": "python",
   "nbconvert_exporter": "python",
   "pygments_lexer": "ipython3",
   "version": "3.6.3"
  }
 },
 "nbformat": 4,
 "nbformat_minor": 2
}
