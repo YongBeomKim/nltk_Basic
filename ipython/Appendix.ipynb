{
 "cells": [
  {
   "cell_type": "markdown",
   "metadata": {},
   "source": [
    "<br></br>\n",
    "# **Stop Words**\n",
    "> **nltk**"
   ]
  },
  {
   "cell_type": "code",
   "execution_count": null,
   "metadata": {},
   "outputs": [],
   "source": [
    "# 분석에 필요한 모듈설치\n",
    "! pip3 install sklearn\n",
    "import nltk\n",
    "nltk.download('punkt')\n",
    "nltk.download('stopwords')\n",
    "news_texts = \"https://raw.githubusercontent.com/YongBeomKim/nltk_tutorial/master/data/News2017.txt\""
   ]
  },
  {
   "cell_type": "code",
   "execution_count": null,
   "metadata": {},
   "outputs": [],
   "source": [
    "# Stopwords 사용가능한 언어목록 \n",
    "from nltk.corpus import stopwords\n",
    "stopwords.ensure_loaded\n",
    "stopwords.__dict__.get('_fileids')"
   ]
  },
  {
   "cell_type": "code",
   "execution_count": null,
   "metadata": {},
   "outputs": [],
   "source": [
    "from nltk.corpus import stopwords\n",
    "stop_eng = stopwords.words(\"english\")\n",
    "stop_eng"
   ]
  },
  {
   "cell_type": "code",
   "execution_count": null,
   "metadata": {},
   "outputs": [],
   "source": [
    "# 영문 내용을 소문자로 전처리\n",
    "texts = 'I like such a Wonderful Snow Ice Cream'\n",
    "texts = texts.lower()\n",
    "texts"
   ]
  },
  {
   "cell_type": "code",
   "execution_count": null,
   "metadata": {},
   "outputs": [],
   "source": [
    "from nltk import word_tokenize\n",
    "tokens = word_tokenize(texts)\n",
    "tokens"
   ]
  },
  {
   "cell_type": "code",
   "execution_count": null,
   "metadata": {},
   "outputs": [],
   "source": [
    "tokens = [word   for word in tokens   \n",
    "                 if word not in stop_eng]\n",
    "print(tokens)"
   ]
  },
  {
   "cell_type": "markdown",
   "metadata": {},
   "source": [
    "<br></br>\n",
    "# **Tf-idf**\n",
    "> **scikit learn**"
   ]
  },
  {
   "cell_type": "code",
   "execution_count": null,
   "metadata": {},
   "outputs": [],
   "source": [
    "import requests\n",
    "texts = requests.get(news_texts).text\n",
    "texts = texts.lower()\n",
    "texts[:300]"
   ]
  },
  {
   "cell_type": "code",
   "execution_count": null,
   "metadata": {},
   "outputs": [],
   "source": [
    "# 영문 Token만 추출한다 (숫자와 문장기호를 제거)\n",
    "import re\n",
    "tokenizer = re.compile('[a-z]\\w+')\n",
    "tokens    = tokenizer.findall(texts)\n",
    "document  = \" \".join(tokens)\n",
    "document[:300]"
   ]
  },
  {
   "cell_type": "code",
   "execution_count": null,
   "metadata": {},
   "outputs": [],
   "source": [
    "import numpy as np\n",
    "import pandas as pd\n",
    "from sklearn.feature_extraction.text import TfidfVectorizer\n",
    "tfidf_vec     = TfidfVectorizer(stop_words='english')\n",
    "transformed = tfidf_vec.fit_transform(raw_documents = [document])\n",
    "transformed = np.array(transformed.todense())\n",
    "transformed"
   ]
  },
  {
   "cell_type": "code",
   "execution_count": null,
   "metadata": {},
   "outputs": [],
   "source": [
    "index_value   = {i[1]:i[0] for i in tfidf_vec.vocabulary_.items()}\n",
    "fully_indexed = {index_value[column]:value  for row in transformed  \n",
    "                                            for (column,value) in enumerate(row)}\n",
    "fully_indexed"
   ]
  }
 ],
 "metadata": {
  "kernelspec": {
   "display_name": "Python 3",
   "language": "python",
   "name": "python3"
  },
  "language_info": {
   "codemirror_mode": {
    "name": "ipython",
    "version": 3
   },
   "file_extension": ".py",
   "mimetype": "text/x-python",
   "name": "python",
   "nbconvert_exporter": "python",
   "pygments_lexer": "ipython3",
   "version": "3.6.3"
  }
 },
 "nbformat": 4,
 "nbformat_minor": 2
}
