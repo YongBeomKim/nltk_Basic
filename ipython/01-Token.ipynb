{
 "cells": [
  {
   "cell_type": "markdown",
   "metadata": {},
   "source": [
    "# **Chapter 1 자연어 다루기**\n",
    "## **Token:** 어휘 추출하기"
   ]
  },
  {
   "cell_type": "code",
   "execution_count": 1,
   "metadata": {},
   "outputs": [],
   "source": [
    "# ! apt-get update\n",
    "# ! apt-get install g++ openjdk-8-jdk \n",
    "# ! pip3  install  nltk konlpy wordcloud matplotlib gensim "
   ]
  },
  {
   "cell_type": "code",
   "execution_count": 2,
   "metadata": {},
   "outputs": [
    {
     "data": {
      "text/plain": [
       "'삼성 갤럭시(GalaxyNote)노트의 신형을 홍보 합니다. \\n홍보:유관순 010-8888-9999 031-444-5555.\\n삼성 페이지 https://www.samsung.com/sec/index.html'"
      ]
     },
     "execution_count": 2,
     "metadata": {},
     "output_type": "execute_result"
    }
   ],
   "source": [
    "# pip3 install nltk\n",
    "import nltk\n",
    "# nltk.download('punkt')\n",
    "# nltk.download('tagsets')\n",
    "# nltk.download('averaged_perceptron_tagger')\n",
    "text_eng  = \" Don't hesitate to ask questions\"\n",
    "text_kor  = \"\"\"삼성 갤럭시(GalaxyNote)노트의 신형을 홍보 합니다. \n",
    "홍보:유관순 010-8888-9999 031-444-5555.\n",
    "삼성 페이지 https://www.samsung.com/sec/index.html\"\"\"\n",
    "\n",
    "text_kor"
   ]
  },
  {
   "cell_type": "code",
   "execution_count": 3,
   "metadata": {},
   "outputs": [
    {
     "data": {
      "text/plain": [
       "['삼성 갤럭시(GalaxyNote)노트의 신형을 홍보 합니다.',\n",
       " '홍보:유관순 010-8888-9999 031-444-5555.',\n",
       " '삼성 페이지 https://www.samsung.com/sec/index.html']"
      ]
     },
     "execution_count": 3,
     "metadata": {},
     "output_type": "execute_result"
    }
   ],
   "source": [
    "from nltk import sent_tokenize, word_tokenize, FreqDist\n",
    "sent_tokenize(text_kor)"
   ]
  },
  {
   "cell_type": "code",
   "execution_count": 4,
   "metadata": {},
   "outputs": [
    {
     "data": {
      "text/plain": [
       "['삼성',\n",
       " '갤럭시',\n",
       " '(',\n",
       " 'GalaxyNote',\n",
       " ')',\n",
       " '노트의',\n",
       " '신형을',\n",
       " '홍보',\n",
       " '합니다',\n",
       " '.',\n",
       " '홍보',\n",
       " ':',\n",
       " '유관순',\n",
       " '010-8888-9999',\n",
       " '031-444-5555',\n",
       " '.',\n",
       " '삼성',\n",
       " '페이지',\n",
       " 'https',\n",
       " ':',\n",
       " '//www.samsung.com/sec/index.html']"
      ]
     },
     "execution_count": 4,
     "metadata": {},
     "output_type": "execute_result"
    }
   ],
   "source": [
    "tokens = word_tokenize(text_kor)\n",
    "tokens"
   ]
  },
  {
   "cell_type": "code",
   "execution_count": 5,
   "metadata": {
    "scrolled": true
   },
   "outputs": [
    {
     "data": {
      "text/plain": [
       "{'삼성': 2,\n",
       " '갤럭시': 1,\n",
       " '(': 1,\n",
       " 'GalaxyNote': 1,\n",
       " ')': 1,\n",
       " '노트의': 1,\n",
       " '신형을': 1,\n",
       " '홍보': 2,\n",
       " '합니다': 1,\n",
       " '.': 2,\n",
       " ':': 2,\n",
       " '유관순': 1,\n",
       " '010-8888-9999': 1,\n",
       " '031-444-5555': 1,\n",
       " '페이지': 1,\n",
       " 'https': 1,\n",
       " '//www.samsung.com/sec/index.html': 1}"
      ]
     },
     "execution_count": 5,
     "metadata": {},
     "output_type": "execute_result"
    }
   ],
   "source": [
    "dict(FreqDist(tokens))"
   ]
  },
  {
   "cell_type": "markdown",
   "metadata": {},
   "source": [
    "<br/>\n",
    "## **Re 를 사용한 Regex 정규식**\n",
    "https://news.v.daum.net/v/20190223110230553"
   ]
  },
  {
   "cell_type": "code",
   "execution_count": 11,
   "metadata": {},
   "outputs": [
    {
     "data": {
      "text/plain": [
       "['삼성', '갤럭시', '노트의', '신형을', '홍보', '합니다', '홍보', '유관순', '삼성', '페이지']"
      ]
     },
     "execution_count": 11,
     "metadata": {},
     "output_type": "execute_result"
    }
   ],
   "source": [
    "import re\n",
    "tokenizer = re.compile(r'[ㄱ-힣]+')\n",
    "tokenizer.findall(text_kor)"
   ]
  },
  {
   "cell_type": "code",
   "execution_count": 9,
   "metadata": {},
   "outputs": [
    {
     "data": {
      "text/plain": [
       "['010-8888-9999', '031-444-5555']"
      ]
     },
     "execution_count": 9,
     "metadata": {},
     "output_type": "execute_result"
    }
   ],
   "source": [
    "tokenizer = re.compile(r'[0-9]{3}-[0-9]{3,4}-\\d{4}')\n",
    "tokenizer.findall(text_kor)"
   ]
  },
  {
   "cell_type": "code",
   "execution_count": 8,
   "metadata": {},
   "outputs": [
    {
     "data": {
      "text/plain": [
       "['010-8888-9999', '031-444-5555']"
      ]
     },
     "execution_count": 8,
     "metadata": {},
     "output_type": "execute_result"
    }
   ],
   "source": [
    "tokenizer = re.compile(r'\\d{3}-\\d{3,4}-\\d{4}')\n",
    "tokenizer.findall(text_kor)"
   ]
  },
  {
   "cell_type": "code",
   "execution_count": 12,
   "metadata": {},
   "outputs": [
    {
     "data": {
      "text/plain": [
       "['(GalaxyNote)',\n",
       " '.',\n",
       " '\\n',\n",
       " ':',\n",
       " '010-8888-9999',\n",
       " '031-444-5555.\\n',\n",
       " 'https://www.samsung.com/sec/index.html']"
      ]
     },
     "execution_count": 12,
     "metadata": {},
     "output_type": "execute_result"
    }
   ],
   "source": [
    "tokenizer = re.compile(r'[^ 가-힣]+')\n",
    "tokenizer.findall(text_kor)"
   ]
  },
  {
   "cell_type": "code",
   "execution_count": 13,
   "metadata": {},
   "outputs": [
    {
     "data": {
      "text/plain": [
       "'삼성 갤럭시노트의 신형을 홍보 합니다 홍보유관순  삼성 페이지 '"
      ]
     },
     "execution_count": 13,
     "metadata": {},
     "output_type": "execute_result"
    }
   ],
   "source": [
    "tokenizer.sub(\"\", text_kor)#.split(\" \")"
   ]
  },
  {
   "cell_type": "code",
   "execution_count": 14,
   "metadata": {},
   "outputs": [
    {
     "data": {
      "text/plain": [
       "['https://www.samsung.com/sec/index.html']"
      ]
     },
     "execution_count": 14,
     "metadata": {},
     "output_type": "execute_result"
    }
   ],
   "source": [
    "tokenizer = re.compile(r'https://[w]{3}.[A-z]+.[./A-z]+')\n",
    "tokenizer.findall(text_kor)"
   ]
  },
  {
   "cell_type": "markdown",
   "metadata": {},
   "source": [
    "<br/>\n",
    "# **Stemming / Tagging**\n",
    "> **nltk**"
   ]
  },
  {
   "cell_type": "code",
   "execution_count": 15,
   "metadata": {},
   "outputs": [
    {
     "data": {
      "text/plain": [
       "\" don't hesitate to ask questions\""
      ]
     },
     "execution_count": 15,
     "metadata": {},
     "output_type": "execute_result"
    }
   ],
   "source": [
    "text_eng = text_eng.lower()\n",
    "text_eng"
   ]
  },
  {
   "cell_type": "code",
   "execution_count": 16,
   "metadata": {},
   "outputs": [
    {
     "data": {
      "text/plain": [
       "['do', \"n't\", 'hesitate', 'to', 'ask', 'questions']"
      ]
     },
     "execution_count": 16,
     "metadata": {},
     "output_type": "execute_result"
    }
   ],
   "source": [
    "from nltk.tokenize import TreebankWordTokenizer\n",
    "tokenizer = TreebankWordTokenizer()\n",
    "token     = tokenizer.tokenize(text_eng)\n",
    "token"
   ]
  },
  {
   "cell_type": "code",
   "execution_count": 17,
   "metadata": {},
   "outputs": [
    {
     "data": {
      "text/plain": [
       "[('do', 'VBP'),\n",
       " (\"n't\", 'RB'),\n",
       " ('hesitate', 'VB'),\n",
       " ('to', 'TO'),\n",
       " ('ask', 'VB'),\n",
       " ('questions', 'NNS')]"
      ]
     },
     "execution_count": 17,
     "metadata": {},
     "output_type": "execute_result"
    }
   ],
   "source": [
    "from nltk import pos_tag\n",
    "pos_tag(token)"
   ]
  },
  {
   "cell_type": "code",
   "execution_count": 18,
   "metadata": {},
   "outputs": [
    {
     "name": "stdout",
     "output_type": "stream",
     "text": [
      "PRP: pronoun, personal\n",
      "    hers herself him himself hisself it itself me myself one oneself ours\n",
      "    ourselves ownself self she thee theirs them themselves they thou thy us\n"
     ]
    }
   ],
   "source": [
    "import nltk.help as nltk_help\n",
    "nltk_help.upenn_tagset('PRP')  # 대명사"
   ]
  },
  {
   "cell_type": "code",
   "execution_count": 19,
   "metadata": {},
   "outputs": [
    {
     "name": "stdout",
     "output_type": "stream",
     "text": [
      "JJ: adjective or numeral, ordinal\n",
      "    third ill-mannered pre-war regrettable oiled calamitous first separable\n",
      "    ectoplasmic battery-powered participatory fourth still-to-be-named\n",
      "    multilingual multi-disciplinary ...\n"
     ]
    }
   ],
   "source": [
    "nltk_help.upenn_tagset('JJ')  # 형용사"
   ]
  },
  {
   "cell_type": "markdown",
   "metadata": {},
   "source": [
    "<br/>\n",
    "# **Stemming / Tagging (한글)**\n",
    "> **konlpy**"
   ]
  },
  {
   "cell_type": "code",
   "execution_count": 20,
   "metadata": {},
   "outputs": [
    {
     "name": "stdout",
     "output_type": "stream",
     "text": [
      "[('파이썬', 'Noun'), ('을', 'Josa'), ('활용', 'Noun'), ('하다', 'Verb'), ('자연어', 'Noun'), ('분석', 'Noun'), ('특강', 'Noun'), ('이다', 'Adjective')]\n"
     ]
    }
   ],
   "source": [
    "from konlpy.tag import Okt, Kkma, Hannanum\n",
    "twitter = Okt()\n",
    "text    = \"파이썬을 활용하여 자연어 분석 특강입니다\"\n",
    "print(twitter.pos(text, stem=\"true\")) "
   ]
  },
  {
   "cell_type": "code",
   "execution_count": 21,
   "metadata": {},
   "outputs": [
    {
     "name": "stdout",
     "output_type": "stream",
     "text": [
      "[('파이썬', 'Noun'), ('을', 'Josa'), ('활용', 'Noun'), ('하여', 'Verb'), ('자연어', 'Noun'), ('분석', 'Noun'), ('특강', 'Noun'), ('입니다', 'Adjective')]\n"
     ]
    }
   ],
   "source": [
    "print(twitter.pos(text))"
   ]
  },
  {
   "cell_type": "code",
   "execution_count": 22,
   "metadata": {},
   "outputs": [
    {
     "name": "stdout",
     "output_type": "stream",
     "text": [
      "[('파이', 'NNG'), ('썰', 'VV'), ('ㄴ', 'ETD'), ('을', 'NNG'), ('활용', 'NNG'), ('하', 'XSV'), ('여', 'ECS'), ('자연어', 'NNG'), ('분석', 'NNG'), ('특강', 'NNG'), ('이', 'VCP'), ('ㅂ니다', 'EFN')]\n",
      "CPU times: user 17.8 s, sys: 158 ms, total: 18 s\n",
      "Wall time: 6.13 s\n"
     ]
    }
   ],
   "source": [
    "%%time\n",
    "kkma = Kkma()\n",
    "print(kkma.pos(text))"
   ]
  },
  {
   "cell_type": "code",
   "execution_count": 23,
   "metadata": {},
   "outputs": [
    {
     "name": "stdout",
     "output_type": "stream",
     "text": [
      "[('파이썬', 'N'), ('을', 'J'), ('활용', 'N'), ('하', 'X'), ('어', 'E'), ('자연어', 'N'), ('분석', 'N'), ('특강', 'N'), ('이', 'J'), ('ㅂ니다', 'E')]\n",
      "CPU times: user 2.28 s, sys: 35.9 ms, total: 2.32 s\n",
      "Wall time: 739 ms\n"
     ]
    }
   ],
   "source": [
    "%%time\n",
    "han = Hannanum()\n",
    "print(han.pos(text))"
   ]
  },
  {
   "cell_type": "code",
   "execution_count": null,
   "metadata": {},
   "outputs": [],
   "source": []
  },
  {
   "cell_type": "code",
   "execution_count": null,
   "metadata": {},
   "outputs": [],
   "source": []
  },
  {
   "cell_type": "code",
   "execution_count": 24,
   "metadata": {},
   "outputs": [],
   "source": [
    "from konlpy.tag import Mecab"
   ]
  },
  {
   "cell_type": "code",
   "execution_count": 25,
   "metadata": {},
   "outputs": [],
   "source": [
    "mecab = Mecab()"
   ]
  },
  {
   "cell_type": "code",
   "execution_count": 26,
   "metadata": {},
   "outputs": [
    {
     "data": {
      "text/plain": [
       "[('삼성', 'NNP'),\n",
       " ('갤럭시', 'NNP'),\n",
       " ('(', 'SSO'),\n",
       " ('GalaxyNote', 'SL'),\n",
       " (')', 'SSC'),\n",
       " ('노트', 'NNG'),\n",
       " ('의', 'JKG'),\n",
       " ('신', 'XPN'),\n",
       " ('형', 'NNG'),\n",
       " ('을', 'JKO'),\n",
       " ('홍보', 'NNG'),\n",
       " ('합니다', 'XSV+EF'),\n",
       " ('.', 'SF'),\n",
       " ('홍보', 'NNG'),\n",
       " (':', 'SC'),\n",
       " ('유관순', 'NNP'),\n",
       " ('010', 'SN'),\n",
       " ('-', 'SY'),\n",
       " ('8888', 'SN'),\n",
       " ('-', 'SY'),\n",
       " ('9999', 'SN'),\n",
       " ('031', 'SN'),\n",
       " ('-', 'SY'),\n",
       " ('444', 'SN'),\n",
       " ('-', 'SY'),\n",
       " ('5555', 'SN'),\n",
       " ('.', 'SF'),\n",
       " ('삼성', 'NNP'),\n",
       " ('페이지', 'NNG'),\n",
       " ('https', 'SL'),\n",
       " (':', 'SC'),\n",
       " ('/', 'SC'),\n",
       " ('/', 'SC'),\n",
       " ('www', 'SL'),\n",
       " ('.', 'SY'),\n",
       " ('samsung', 'SL'),\n",
       " ('.', 'SY'),\n",
       " ('com', 'SL'),\n",
       " ('/', 'SC'),\n",
       " ('sec', 'SL'),\n",
       " ('/', 'SC'),\n",
       " ('index', 'SL'),\n",
       " ('.', 'SY'),\n",
       " ('html', 'SL')]"
      ]
     },
     "execution_count": 26,
     "metadata": {},
     "output_type": "execute_result"
    }
   ],
   "source": [
    "mecab.pos(text_kor)"
   ]
  },
  {
   "cell_type": "code",
   "execution_count": null,
   "metadata": {},
   "outputs": [],
   "source": []
  },
  {
   "cell_type": "code",
   "execution_count": null,
   "metadata": {},
   "outputs": [],
   "source": []
  }
 ],
 "metadata": {
  "kernelspec": {
   "display_name": "Python 3",
   "language": "python",
   "name": "python3"
  },
  "language_info": {
   "codemirror_mode": {
    "name": "ipython",
    "version": 3
   },
   "file_extension": ".py",
   "mimetype": "text/x-python",
   "name": "python",
   "nbconvert_exporter": "python",
   "pygments_lexer": "ipython3",
   "version": "3.6.3"
  }
 },
 "nbformat": 4,
 "nbformat_minor": 2
}
